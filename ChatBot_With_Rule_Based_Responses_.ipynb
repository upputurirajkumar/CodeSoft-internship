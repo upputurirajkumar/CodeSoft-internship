{
  "nbformat": 4,
  "nbformat_minor": 0,
  "metadata": {
    "colab": {
      "provenance": [],
      "authorship_tag": "ABX9TyMVKlYj7u8crO25QnsoOXmk",
      "include_colab_link": true
    },
    "kernelspec": {
      "name": "python3",
      "display_name": "Python 3"
    },
    "language_info": {
      "name": "python"
    }
  },
  "cells": [
    {
      "cell_type": "markdown",
      "metadata": {
        "id": "view-in-github",
        "colab_type": "text"
      },
      "source": [
        "<a href=\"https://colab.research.google.com/github/upputurirajkumar/CodeSoft-internship/blob/main/ChatBot_With_Rule_Based_Responses_.ipynb\" target=\"_parent\"><img src=\"https://colab.research.google.com/assets/colab-badge.svg\" alt=\"Open In Colab\"/></a>"
      ]
    },
    {
      "cell_type": "code",
      "execution_count": 2,
      "metadata": {
        "colab": {
          "base_uri": "https://localhost:8080/"
        },
        "id": "fMlYgD5sQ5kt",
        "outputId": "ba29913b-0f8a-4eb0-b7cc-71af94c3cd9d"
      },
      "outputs": [
        {
          "output_type": "stream",
          "name": "stdout",
          "text": [
            "You: hello\n",
            "Chatbot: Hi there! How can I help you today?\n",
            "You: my name is rajkumar\n",
            "Chatbot: Nice to meet you, rajkumar!\n",
            "You: weather\n",
            "Chatbot: The weather in ongole is sunny with a high of 75°F\n",
            "You: today\n",
            "Chatbot: I'm not sure how to help with that. Can you please rephrase?\n",
            "You: tomorrow\n",
            "Chatbot: I'm not sure how to help with that. Can you please rephrase?\n",
            "You: how are you\n",
            "Chatbot: I'm just a bot, but I'm here to help you!\n",
            "You: exit\n",
            "Chatbot: Goodbye!\n"
          ]
        }
      ],
      "source": [
        "# Function to simulate getting today's weather\n",
        "def get_today_weather():\n",
        "    return \"Today's weather is sunny with a high of 75°F.\"\n",
        "\n",
        "# Function to simulate getting tomorrow's weather\n",
        "def get_tomorrow_weather():\n",
        "    return \"Tomorrow's weather is cloudy with a chance of rain.\"\n",
        "\n",
        "# Function to simulate extracting a location from user input\n",
        "def extract_location(user_input):\n",
        "    # Placeholder logic for extracting location\n",
        "    return \"ongole\"\n",
        "\n",
        "# Function to simulate fetching weather for a given location\n",
        "def fetch_weather(location):\n",
        "    # Placeholder logic for fetching weather\n",
        "    return \"sunny with a high of 75°F\"\n",
        "\n",
        "# Function to simulate extracting a name from user input\n",
        "def extract_name(user_input):\n",
        "    return user_input.split(\"my name is \")[-1]\n",
        "\n",
        "# Define initial state\n",
        "state = {\n",
        "    \"last_question\": None,\n",
        "    \"user_name\": None\n",
        "}\n",
        "\n",
        "# Function to generate chatbot responses\n",
        "def chatbot_response(user_input):\n",
        "    user_input = user_input.lower()\n",
        "    response = None\n",
        "\n",
        "    # Rule 1: Greeting\n",
        "    if \"hello\" in user_input:\n",
        "        response = \"Hi there! How can I help you today?\"\n",
        "\n",
        "    # Rule 2: Asking for name\n",
        "    elif \"my name is\" in user_input:\n",
        "        state[\"user_name\"] = extract_name(user_input)\n",
        "        response = f\"Nice to meet you, {state['user_name']}!\"\n",
        "\n",
        "    # Rule 3: Asking for weather\n",
        "    elif \"weather\" in user_input:\n",
        "        if \"today\" in user_input:\n",
        "            response = get_today_weather()\n",
        "        elif \"tomorrow\" in user_input:\n",
        "            response = get_tomorrow_weather()\n",
        "        else:\n",
        "            location = extract_location(user_input)\n",
        "            weather_info = fetch_weather(location)\n",
        "            response = f\"The weather in {location} is {weather_info}\"\n",
        "\n",
        "    # Rule 4: Asking about the bot's well-being\n",
        "    elif \"how are you\" in user_input:\n",
        "        response = \"I'm just a bot, but I'm here to help you!\"\n",
        "\n",
        "    # Fallback response\n",
        "    if response is None:\n",
        "        response = \"I'm not sure how to help with that. Can you please rephrase?\"\n",
        "\n",
        "    return response\n",
        "\n",
        "# Example conversation\n",
        "while True:\n",
        "    user_input = input(\"You: \")\n",
        "    if user_input.lower() in [\"exit\", \"quit\"]:\n",
        "        print(\"Chatbot: Goodbye!\")\n",
        "        break\n",
        "    print(\"Chatbot:\", chatbot_response(user_input))\n"
      ]
    }
  ]
}